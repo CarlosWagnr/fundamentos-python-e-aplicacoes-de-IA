{
 "cells": [
  {
   "cell_type": "markdown",
   "id": "61d979b2-a85f-4d69-901e-b3bb69419a3e",
   "metadata": {},
   "source": [
    "<!-- Trabalho Desenvolvido na Data Science Academy - www.datascienceacademy.com.br -->\n",
    "# <font color='blue'>Data Science Academy</font>\n",
    "# <font color='blue'>Fundamentos de Linguagem Python - Do Básico a Aplicações de IA</font>\n",
    "# <font color='blue'>Lista 2 de Exercícios</font>"
   ]
  },
  {
   "cell_type": "markdown",
   "id": "3670be14-c985-465c-a68c-34b0e822b07a",
   "metadata": {},
   "source": [
    "#### Exercício 1\n",
    "\n",
    "Escreva uma função que receba os valores de três lados de um triângulo e o classifique como \"Equilátero\" (todos os lados iguais), \"Isósceles\" (dois lados iguais) ou \"Escaleno\" (todos os lados diferentes)."
   ]
  },
  {
   "cell_type": "code",
   "execution_count": 1,
   "id": "e05f9264-9103-4c43-9bbf-20334ead2de3",
   "metadata": {},
   "outputs": [],
   "source": [
    "# Solução\n",
    "def triangulo(lado1, lado2, lado3):\n",
    "    if (lado1 == lado2) and (lado2 == lado3):\n",
    "        print(\"O triângulo é Equilátero!\")\n",
    "    elif (lado1 == lado2) or (lado1 == lado3) or (lado2 == lado3):\n",
    "        print(\"O triângulo é Isósceles!\")\n",
    "    else:\n",
    "        print(\"O triângulo é Escaleno!\")\n"
   ]
  },
  {
   "cell_type": "code",
   "execution_count": 8,
   "id": "217c0773-4e2f-4452-b1ba-60495e108e47",
   "metadata": {},
   "outputs": [
    {
     "name": "stdout",
     "output_type": "stream",
     "text": [
      "O triângulo é Escaleno!\n"
     ]
    }
   ],
   "source": [
    "triangulo(3, 1, 2)"
   ]
  },
  {
   "cell_type": "markdown",
   "id": "c740abbd-3a0e-4f9f-9a26-a3e382b078f5",
   "metadata": {},
   "source": [
    "#### Exercício 2\n",
    "\n",
    "Escreva uma função que recebe um número inteiro e exibe a tabuada de multiplicação desse número, do 1 ao 10."
   ]
  },
  {
   "cell_type": "code",
   "execution_count": 9,
   "id": "431acb5d-fcd1-4ce4-9eee-6117b4066383",
   "metadata": {},
   "outputs": [],
   "source": [
    "# Solução\n",
    "def tabuada_mult(numero):\n",
    "    for num in range(1, 11):\n",
    "        print(f\"{numero} x {num} = {numero * num}\")"
   ]
  },
  {
   "cell_type": "code",
   "execution_count": 10,
   "id": "17eae25e-2f76-4450-9daf-bc123ef9361b",
   "metadata": {},
   "outputs": [
    {
     "name": "stdout",
     "output_type": "stream",
     "text": [
      "3 x 1 = 3\n",
      "3 x 2 = 6\n",
      "3 x 3 = 9\n",
      "3 x 4 = 12\n",
      "3 x 5 = 15\n",
      "3 x 6 = 18\n",
      "3 x 7 = 21\n",
      "3 x 8 = 24\n",
      "3 x 9 = 27\n",
      "3 x 10 = 30\n"
     ]
    }
   ],
   "source": [
    "tabuada_mult(3)"
   ]
  },
  {
   "cell_type": "markdown",
   "id": "3375fbd5-8283-4602-9462-c0c7722e3258",
   "metadata": {},
   "source": [
    "#### Exercício 3 \n",
    "\n",
    "Você recebeu um dicionário com os nomes dos alunos e suas respectivas notas. Escreva uma função que calcula a média da turma e retorna uma lista com os nomes dos alunos que tiveram nota acima da média."
   ]
  },
  {
   "cell_type": "code",
   "execution_count": 80,
   "id": "de7f16bd-c754-456b-a726-28616af68aaa",
   "metadata": {},
   "outputs": [],
   "source": [
    "# Solução\n",
    "dict_alunos = {\"Robert\": 8.8, \"Maria\": 9, \"Rosangela\": 5.9, \"Carlos\": 7}\n",
    "def nota(args):\n",
    "    soma = 0\n",
    "    for k, v in args.items():\n",
    "        soma = soma + v\n",
    "        media = soma / len(args)\n",
    "        if v > media:\n",
    "            print(f\"Alunos: {k}\")\n",
    "    print(media)"
   ]
  },
  {
   "cell_type": "code",
   "execution_count": 81,
   "id": "5e94f90b-76ad-4d60-91de-07104b4d33ec",
   "metadata": {},
   "outputs": [
    {
     "name": "stdout",
     "output_type": "stream",
     "text": [
      "Alunos: Robert\n",
      "Alunos: Maria\n",
      "7.675000000000001\n"
     ]
    }
   ],
   "source": [
    "nota(dict_alunos)"
   ]
  },
  {
   "cell_type": "markdown",
   "id": "7a6f120d-ef3d-4431-a9a1-1f8a99bae626",
   "metadata": {},
   "source": [
    "#### Exercício 4\n",
    "\n",
    "Dada uma lista de números, crie uma nova lista usando list comprehension que contenha o quadrado de cada número par da lista original."
   ]
  },
  {
   "cell_type": "code",
   "execution_count": 83,
   "id": "d40d066e-42b3-4659-a098-4bb73a3448a2",
   "metadata": {},
   "outputs": [],
   "source": [
    "# Solução\n",
    "list1 = [1, 2 , 3, 4 , 5]\n",
    "quadrado_par = [num * 2 for num in list1 if num % 2 == 0]"
   ]
  },
  {
   "cell_type": "code",
   "execution_count": 84,
   "id": "c43d56ac-fabe-450e-a884-ce4f53873a2a",
   "metadata": {},
   "outputs": [
    {
     "data": {
      "text/plain": [
       "[4, 8]"
      ]
     },
     "execution_count": 84,
     "metadata": {},
     "output_type": "execute_result"
    }
   ],
   "source": [
    "quadrado_par"
   ]
  },
  {
   "cell_type": "markdown",
   "id": "a3182326-e5c7-4b8b-aeae-f30bbc3532b2",
   "metadata": {},
   "source": [
    "#### Exercício 5\n",
    "\n",
    "Crie uma função chamada dsa_calcula_imc que aceite dois argumentos: peso (em kg) e altura (em metros). A função deve calcular o Índice de Massa Corporal (IMC) usando a fórmula IMC=peso/altura^2 e retornar o valor do IMC."
   ]
  },
  {
   "cell_type": "code",
   "execution_count": 85,
   "id": "40007f31-7641-4d98-9521-c23f0741c37f",
   "metadata": {},
   "outputs": [
    {
     "name": "stdout",
     "output_type": "stream",
     "text": [
      "O IMC é = 20.35928143712575\n"
     ]
    }
   ],
   "source": [
    "# Solução\n",
    "def dsa_calcula_imc(peso, altura):\n",
    "    imc = peso / (altura * 2)\n",
    "    print(f\"O IMC é = {imc}\")\n",
    "\n",
    "dsa_calcula_imc(68, 1.67)"
   ]
  },
  {
   "cell_type": "markdown",
   "id": "b87006e7-5436-4dc0-acfc-fe6e83330191",
   "metadata": {},
   "source": [
    "#### Exercício 6\n",
    "\n",
    "Você tem uma lista de dicionários, onde cada dicionário representa uma pessoa com nome e idade. Use a função sorted() com uma expressão lambda como chave (key) para ordenar a lista de pessoas da mais nova para a mais velha."
   ]
  },
  {
   "cell_type": "code",
   "execution_count": 102,
   "id": "1f0c0503-1346-47f1-8cb9-ddbcd87641ea",
   "metadata": {},
   "outputs": [
    {
     "name": "stdout",
     "output_type": "stream",
     "text": [
      "[{'nome': 'Joaquim', 'idade': 18}, {'nome': 'Bruno', 'idade': 26}, {'nome': 'Rosa', 'idade': 34}, {'nome': 'Andreia', 'idade': 40}]\n"
     ]
    }
   ],
   "source": [
    "# Solução\n",
    "pessoas = [{\"nome\": \"Rosa\", \"idade\": 34}, \n",
    "           {\"nome\": \"Andreia\", \"idade\": 40}, \n",
    "           {\"nome\": \"Joaquim\", \"idade\": 18}, \n",
    "           {\"nome\": \"Bruno\", \"idade\": 26}]\n",
    "\n",
    "ordenacao = sorted(pessoas, key=lambda pessoa: pessoa[\"idade\"])\n",
    "\n",
    "print(ordenacao)"
   ]
  },
  {
   "cell_type": "markdown",
   "id": "268f4ea6-5329-457b-8b1f-8b3fc7956603",
   "metadata": {},
   "source": [
    "#### Exercício 7\n",
    "\n",
    "Crie uma função que receba uma lista de números inteiros e retorne um dicionário contendo a contagem de quantos números são pares e quantos são ímpares."
   ]
  },
  {
   "cell_type": "code",
   "execution_count": 54,
   "id": "7366a477-10f5-46ec-ba8c-b0ab6067fed0",
   "metadata": {},
   "outputs": [
    {
     "data": {
      "text/plain": [
       "{'Par': 4, 'Impar': 4}"
      ]
     },
     "execution_count": 54,
     "metadata": {},
     "output_type": "execute_result"
    }
   ],
   "source": [
    "# Solução\n",
    "numeros_interos = [1, 2, 3, 4, 5, 6, 8]\n",
    "def pareimpar(numeros):\n",
    "    par = [numero for numero in numeros if numero % 2 == 0]\n",
    "    impar = [numero for numero in numeros if numero % 2 != 0]\n",
    "    dict_contagem = {\"Par\": len(par),\n",
    "                    \"Impar\": len(impar)}\n",
    "    return dict_contagem\n",
    "\n",
    "pareimpar(numeros_interos)"
   ]
  },
  {
   "cell_type": "markdown",
   "id": "bc454f20-7ee6-4402-8319-5e4876e2d309",
   "metadata": {},
   "source": [
    "#### Exercício 8\n",
    "\n",
    "Crie uma função que receba uma lista de strings (potenciais e-mails) e um parâmetro opcional dominio_desejado (com valor padrão \"gmail.com\"). A função deve retornar uma nova lista, usando list comprehension, contendo apenas os e-mails que terminam com o domínio desejado."
   ]
  },
  {
   "cell_type": "code",
   "execution_count": 86,
   "id": "11bdc9e8-75be-4448-932d-d876207fd1e4",
   "metadata": {},
   "outputs": [
    {
     "name": "stdout",
     "output_type": "stream",
     "text": [
      "['carlos@gmail.com', 'biasantos@gmail.com']\n"
     ]
    }
   ],
   "source": [
    "# Solução\n",
    "list_strings = [\"carlos@gmail.com\", \"victor@hotmail.com\", \"biasantos@gmail.com\", \"jose@yahoo.com\"]\n",
    "def dominio(email, dominio_desejado=\"gmail.com\"):\n",
    "    email_desejado = [item for item in email if item.endswith(dominio_desejado)]\n",
    "    print(email_desejado)\n",
    "\n",
    "dominio(list_strings)"
   ]
  },
  {
   "cell_type": "markdown",
   "id": "40f12391-14a5-4b6d-bcb7-419a373eb0e1",
   "metadata": {},
   "source": [
    "#### Exercício 9\n",
    "\n",
    "Dada uma lista de frases, use a função map() em conjunto com uma expressão lambda para criar uma nova lista onde cada frase é convertida para letras maiúsculas e tem a palavra \"PYTHON\" anexada ao final."
   ]
  },
  {
   "cell_type": "code",
   "execution_count": 90,
   "id": "98f84688-9bfe-4de8-9f2b-97bf184dbd18",
   "metadata": {},
   "outputs": [
    {
     "data": {
      "text/plain": [
       "['EU AMO PROGRAMAR EM PYTHON.',\n",
       " 'TODOS DEVERIAM APRENDER PYTHON.',\n",
       " 'O MUNDO AMA PYTHON.',\n",
       " 'TODOS AMAM PYTHON.']"
      ]
     },
     "execution_count": 90,
     "metadata": {},
     "output_type": "execute_result"
    }
   ],
   "source": [
    "# Solução\n",
    "frases = [\"Eu amo programar em \", \"Todos deveriam aprender \", \"O mundo ama \", \"Todos amam \"]\n",
    "converte_frase = list(map(lambda frase: frase.upper() + \"PYTHON.\", frases))\n",
    "converte_frase"
   ]
  },
  {
   "cell_type": "markdown",
   "id": "9f07a658-4f72-4e97-a4e1-7c9f973ebca6",
   "metadata": {},
   "source": [
    "#### Exercício 10\n",
    "\n",
    "Crie um jogo onde o computador escolhe um número secreto entre 1 e 20. O jogador tem 5 tentativas para adivinhar. A cada tentativa, o programa informa se o palpite foi muito alto ou muito baixo. Se o jogador acertar, o loop deve ser interrompido com uma mensagem de vitória."
   ]
  },
  {
   "cell_type": "code",
   "execution_count": 91,
   "id": "aba19b38-a544-4a8d-a162-52a5efe04c9a",
   "metadata": {},
   "outputs": [],
   "source": [
    "# Solução\n"
   ]
  },
  {
   "cell_type": "markdown",
   "id": "800eb189-a900-4307-a31c-910e5bb1e6c9",
   "metadata": {},
   "source": [
    "# Fim"
   ]
  }
 ],
 "metadata": {
  "kernelspec": {
   "display_name": "Python 3 (ipykernel)",
   "language": "python",
   "name": "python3"
  },
  "language_info": {
   "codemirror_mode": {
    "name": "ipython",
    "version": 3
   },
   "file_extension": ".py",
   "mimetype": "text/x-python",
   "name": "python",
   "nbconvert_exporter": "python",
   "pygments_lexer": "ipython3",
   "version": "3.13.5"
  }
 },
 "nbformat": 4,
 "nbformat_minor": 5
}
